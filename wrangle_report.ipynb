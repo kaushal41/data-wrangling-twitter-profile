{
 "cells": [
  {
   "cell_type": "markdown",
   "metadata": {},
   "source": [
    "# WeRateDogs - Twitter Data ###\n"
   ]
  },
  {
   "cell_type": "markdown",
   "metadata": {},
   "source": [
    "### 1. Gathering Data ###"
   ]
  },
  {
   "cell_type": "markdown",
   "metadata": {},
   "source": [
    "I looked at the instructions given by the Udacity team on how to gather data for this data wrangling analysis.\n",
    "- I downloaded the data which is a given CSV file and named as twitter-archive-enhanced.csv.\n",
    "- Next I created my twitter developer account and created the JSON file named tweet_json.txt by using the API. \n",
    "- Next I downloaded the file image predictions file which is in the tsv format.\n",
    "Once I had all the above three files, I created them into 3 different dataframes which are shown below.\n",
    "- archive_df - this is a dataset \"twitter-archive-enhanced.csv\" which was converted into a dataframe and gives information on basic tweet data.\n",
    "- tweets_df - This dataset will contain information like tweet_id, no of retweets and no of favorites etc.,\n",
    "- img_df - This dataset will contain information about predictions about the image."
   ]
  },
  {
   "cell_type": "markdown",
   "metadata": {},
   "source": [
    "### 2. Assessing the Data"
   ]
  },
  {
   "cell_type": "markdown",
   "metadata": {},
   "source": [
    "We have three dataframes:\n",
    "- tweets_df which has retweet and favorite counts\n",
    "- img_predictions_df which has the results of a neural network trying to identify dog breed in a tweet's picture\n",
    "- archive_df which has the tweet's text, rating, and dog category\n"
   ]
  },
  {
   "cell_type": "markdown",
   "metadata": {},
   "source": [
    "### Archive_df table \n",
    "#### Quality\n",
    "- Retweets need to be removed to avoid duplication in our analysis. This may be done by removing rows that have non-empty retweeted_status_id, retweeted_status_user_id, and retweeted_status_timestamp. When this step is correct, there should be a fewer number of non-empty tweet ids.\n",
    "- Rating numerators have not been properly cleaned. The current pipeline captures incorrect values when rating numerators contain decimals.\n",
    "- There are cases where there are multiple dog stages in a row.Need to handle these cases. \n",
    "- Missing values in columns from in_reply_to_status_id, in_reply_to_user_id, retweeted_status_id , retweeted_status_user_id, retweeted_status_timestamp, expanded_urls \n",
    "- tweet id 835246439529840640 has a rating of denominator = 0\n",
    "- weird names found for dogs - 'an','by','his','infuriating', 'just', 'life', 'light', 'mad', 'my', 'not', 'officially', 'old', 'one', 'quite', 'space', 'such', 'the', 'this', 'unacceptable', 'very'\n",
    "- timestamp and retweeted_status_timestamp should be datetime type instead of the object\n",
    "- in_reply_to_status_id, in_reply_to_user_id, retweeted_status_id, retweeted_status_user_id should not be float \n",
    "- The columns which have missing values in doggo, floofer, pupper , puppo - has None instead of NaN\n",
    "- We see that the information of text is truncated to 50 characters. Anything in excess is ellipsized\n",
    "- This archive_df is like a main base table with the above attributes, there are some other attributes that are found to be there in other dataframes. \n",
    "#### Tidiness: ###\n",
    "- Hence we need to join all other dataframes to get a final dataframe.\n",
    "- Dog stages are found in multiple columns, hence we should find a way to club all these variables into single column. This will reduce the dimensionality of the dataframe"
   ]
  },
  {
   "cell_type": "markdown",
   "metadata": {},
   "source": [
    "### Tweets_info_df\n",
    "#### Quality - tweets_df table\n",
    "- 19 tweet ids information is Missing\n",
    "- Retweets and Favorites needs to be joined to the archive_df table"
   ]
  },
  {
   "cell_type": "markdown",
   "metadata": {},
   "source": [
    "### img_df\n",
    "#### Quality - tweets_df table\n",
    "- Only 2075 tweets have images.\n",
    "- Retweets and Favorites needs to be joined to the archive_df table"
   ]
  },
  {
   "cell_type": "markdown",
   "metadata": {},
   "source": [
    "### 3. Cleaning\n",
    "\n",
    "For cleaning all the 3 dataframes, Here are the steps I followed before after joining the dataframes.\n",
    "- Convert the datatype of \"tweet_id\" into string\n",
    "- Remove the retweets to avoid duplication in analysis\n",
    "- Create a universe dataset joining all the dataframes based on the tweet_id\n",
    "- Convert the dog stage or category into one column instead of the multiple columns\n",
    "- Rating numerators have not been properly cleaned. The current pipeline captures incorrect values when rating numerators contain decimals.Refetched the value from text\n",
    "- in_reply_to_status_id, in_reply_to_user_id, retweeted_status_id , retweeted_status_user_id -- Convert all these into Object or string\n",
    "- retweeted_status_timestamp - Convert this variable into datetime format\n",
    "- We see that the information of text is truncated to 50 characters. Anything in excess is ellipsized. Let us increase the text format representation\n",
    "- Weird names found for dogs - 'infuriating', 'just', 'life', 'light', 'mad', 'my', 'not', 'officially', 'old', 'one', 'quite', 'space', 'such', 'the', 'this', 'unacceptable', 'very'. Let us clean to ideal name by looking at the text.\n",
    "- retweeted_status_timestamp - has the null values , I dropped this variable"
   ]
  },
  {
   "cell_type": "markdown",
   "metadata": {},
   "source": [
    "### 4. Store\n",
    "\n",
    "I stored the final dataframe into csv file with name twitter_archive_master.csv with final data of 1990 rows and 26 columns"
   ]
  }
 ],
 "metadata": {
  "kernelspec": {
   "display_name": "Python 3",
   "language": "python",
   "name": "python3"
  },
  "language_info": {
   "codemirror_mode": {
    "name": "ipython",
    "version": 3
   },
   "file_extension": ".py",
   "mimetype": "text/x-python",
   "name": "python",
   "nbconvert_exporter": "python",
   "pygments_lexer": "ipython3",
   "version": "3.6.3"
  }
 },
 "nbformat": 4,
 "nbformat_minor": 2
}
